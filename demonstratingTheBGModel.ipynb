{
 "cells": [
  {
   "cell_type": "markdown",
   "metadata": {},
   "source": [
    "Getting in the right mindset: separating Settings from Events\n",
    "-------------\n",
    "\n",
    "One conceptual hurdle that one must overcome when building\n",
    "a diabetes data model is to separate *events* (or *actions*) from *user settings*. For example,\n",
    "an **action** is when you deliver 2 units of insulin, or eat 30 g of sugar. A **setting**\n",
    "is e.g. your body's insulin sensitivity, and here is the key: there exists a *true* \"setting\" or\n",
    "your body's actual response to the insulin, and also a *user setting* or what you and your\n",
    "BolusWizard calculator *thinks* your body's response will be.\n",
    "\n",
    "Why is this distinction important? Well, when took the two actions of eating 30 g of sugar\n",
    "and giving yourself 2 units of insulin, you've made two assumptions about your body's\n",
    "response (or settings): your body's response to the food, and your body's response to the\n",
    "insulin. (The ratio of these responses, of course, is the insulin-to-carb ratio that you set\n",
    "in your BolusWizard settings.) But in order to test different insulin-to-carb ratio hypotheses,\n",
    "and find your body's *true* response to insulin and food, we must separate the events from the settings.\n",
    "\n",
    "One note on why we will not focus on the insulin-to-carb ratio, and instead seek to understand\n",
    "your body's reponse individually to food and insulin: your body's response to food/insulin are the\n",
    "fundamental quantities here. If you eat food but give no insulin, your body will respond to the food\n",
    "regardless of what's happening with the insulin. The same happens when you give insulin but eat no\n",
    "food. So we can build better predictions of these types of events (insulin+food, insulin only, food only,\n",
    "and everything in between) if we focus on the body's response to food and insulin, rather than the ratio.\n",
    "The response to insulin you know as **\"sensitivity\" (expressed in (mg/dL)/u)**, and the response to food\n",
    "we will call **\"food sensitivity\" (expressed in (mg/dL)/g)** -- they are the blood sugar response to insulin\n",
    "and food individually."
   ]
  },
  {
   "cell_type": "code",
   "execution_count": 1,
   "metadata": {},
   "outputs": [],
   "source": [
    "import sys\n",
    "sys.path.insert(0, \"../\")\n",
    "from BGModel.BGActionClasses import *"
   ]
  },
  {
   "cell_type": "markdown",
   "metadata": {},
   "source": [
    "Events in the BGModel - *independent* of settings\n",
    "--------\n",
    "Let's see how we express some events in the data model. They either have a time associated with them, or a time interval (an \"interval of validity\"). We have BG measurements, insulin boluses, square wave boluses, dual-wave boluses, and food:"
   ]
  },
  {
   "cell_type": "code",
   "execution_count": 2,
   "metadata": {},
   "outputs": [],
   "source": [
    "measurement = BGMeasurement.FromStringDate('2019-02-24T12:00:00','2019-02-24T12:45:00',172)\n",
    "\n",
    "insulin = InsulinBolus.FromStringDate('2019-02-24T09:00:00',2.0)\n",
    "\n",
    "swb = SquareWaveBolus.FromStringDate('2019-02-24T12:00:00',3,2.0)\n",
    "\n",
    "dwb = DualWaveBolus.FromStringDate('2019-02-24T12:00:00',3,2.0,2.0) # hours first, then insulin.\n",
    "\n",
    "food = Food.FromStringDate('2019-02-24T12:00:00',30)"
   ]
  },
  {
   "cell_type": "markdown",
   "metadata": {},
   "source": [
    "Settings in the BGModel: your body's response to food/carb input\n",
    "----------\n",
    "The events above did not need settings to initialize them, but of course in order to calculate your body's response to them, you will need to make some assumptions about your body's response (or settings). So let's see how we set up our settings class. We'll start with an individual setting, your insulin sensitivity ($S_\\text{insulin}$). We make the setting, and then initiate a \"snapshot\" of that setting. (We make \"snapshots\" possible so that we can store multiple settings snapshots, e.g. to store the history of the settings in your BolusWizard). If you don't need to worry about your BolusWizard history, then one snapshot will suffice.\n",
    "\n",
    "### Adding the insulin sensitivity setting:"
   ]
  },
  {
   "cell_type": "code",
   "execution_count": 3,
   "metadata": {},
   "outputs": [
    {
     "name": "stdout",
     "output_type": "stream",
     "text": [
      "[('time', '<m8[s]'), ('value', '<f8')]\n",
      "[(    0, 60.) (43200, 50.) (64800, 40.)]\n"
     ]
    }
   ],
   "source": [
    "import BGModel.Settings as Settings\n",
    "\n",
    "settings_sensitivity = Settings.UserSetting('Sensitivity')\n",
    "the_time = '2019-02-24 00:00:00' # the time at which this setting started being used.\n",
    "settings_sensitivity.getOrMakeSettingsSnapshot(the_time)\n",
    "settings_sensitivity.AddSettingToSnapshot(the_time,0,60) # 60 mg/dL / u starting at midnight\n",
    "settings_sensitivity.AddSettingToSnapshot(the_time,12,50) # 50 mg/dL / u starting at 12pm\n",
    "settings_sensitivity.AddSettingToSnapshot(the_time,18,40) # 40 mg/dL / u starting at 6pm\n",
    "\n",
    "print(settings_sensitivity.latestSettingsSnapshot().dtype)\n",
    "print(settings_sensitivity.latestSettingsSnapshot()) # the times are in seconds (from Midnight)"
   ]
  },
  {
   "cell_type": "markdown",
   "metadata": {},
   "source": [
    "The settings are stored as 2-dimensional tuples: timedelta objects is\n",
    "[0] or ['time'] and the value of the setting is [1] or ['value'].\n",
    "\n",
    "### Carb sensitivity: Adding the carb-insulin ratio setting, and a note:\n",
    "\n",
    "Now you add your carb-to-insulin ratio setting, $R_\\text{carb-insulin}$. *Note: this is not a\n",
    "fundamental quantity! But since every insulin pump uses this value, and users are more familiar with it we\n",
    "use it here too.* Later we derive the fundamental quantity \"carb sensitivity\"\n",
    "by using the simple formula\n",
    "\n",
    "$$S_\\text{carb} = \\frac{S_\\text{insulin}}{R_\\text{carb-insulin}}$$\n",
    "\n",
    "The eventual goal would be for insulin users to understand that \"carb sensitivity\" (your body's\n",
    "response to food) is the more fundamental quantity, and an important one! For example, your blood sugar\n",
    "is 50 mg/dL, and you want to get it to 125. You can't calculate this from $R_\\text{carb-insulin}$ alone - you\n",
    "need to know $S_\\text{carb}$!"
   ]
  },
  {
   "cell_type": "code",
   "execution_count": 4,
   "metadata": {},
   "outputs": [
    {
     "name": "stdout",
     "output_type": "stream",
     "text": [
      "[(0, 15.)]\n"
     ]
    }
   ],
   "source": [
    "settings_ric = Settings.UserSetting('RIC')\n",
    "settings_ric.getOrMakeSettingsSnapshot(the_time)\n",
    "settings_ric.AddSettingToSnapshot(the_time,0,15) # insulin-carb ratio of 15 g / (mg/dL)\n",
    "\n",
    "print(settings_ric.latestSettingsSnapshot()) # the times are in seconds (from Midnight)"
   ]
  },
  {
   "cell_type": "markdown",
   "metadata": {},
   "source": [
    "### Adding the insulin duration setting:\n",
    "\n",
    "By now you get the idea. Add the setting for insulin duration (the decay time of your insulin). This quantity is of course important for calculating the duration of actions involving insulin:"
   ]
  },
  {
   "cell_type": "code",
   "execution_count": 5,
   "metadata": {},
   "outputs": [],
   "source": [
    "settings_duration = Settings.UserSetting('Duration')\n",
    "settings_duration.getOrMakeSettingsSnapshot(the_time)\n",
    "\n",
    "settings_duration.AddSettingToSnapshot(the_time,0,3.0)"
   ]
  },
  {
   "cell_type": "markdown",
   "metadata": {},
   "source": [
    "### Getting at the Basal Glucose: adding the basal insulin setting\n",
    "\n",
    "Your body produces its own basal glucose (let's call it $G_\\text{liver}$, in mg/dL / hour) -- this is a direct property of your body! Of course,\n",
    "insulin users typically don't keep track of this quantity, but instead they concern themselves with\n",
    "the indirect quantity, which is the basal insulin $I_\\text{Basal}$ (in mg/dL / hour) they use to counteract that basal glucose. They are related\n",
    "via:\n",
    "\n",
    "$$G_\\text{liver} = - I_\\text{Basal} \\times S_\\text{insulin}$$\n",
    "\n",
    "but of course, as with $S_\\text{carb}$, $G_\\text{liver}$ is the fundamental quantity. (Your blood sugar will rise indefinitely, whether or not you are delivering your basal insulin rate.)\n",
    "\n",
    "But alas, users will have a setting corresponding to their basal insulin rate, which we will need to calculate that more fundamental quantity later:"
   ]
  },
  {
   "cell_type": "code",
   "execution_count": 6,
   "metadata": {},
   "outputs": [
    {
     "name": "stdout",
     "output_type": "stream",
     "text": [
      "[(    0, 1.) (18000, 1.) (21600, 1.) (43200, 2.) (64800, 1.)]\n",
      "Setting at midnight: 1.0\n"
     ]
    }
   ],
   "source": [
    "settings_basal = Settings.UserSetting('Basal')\n",
    "settings_basal.getOrMakeSettingsSnapshot(the_time)\n",
    "settings_basal.AddSettingToSnapshot(the_time,0,1.0)\n",
    "settings_basal.AddSettingToSnapshot(the_time,5,1.0)\n",
    "settings_basal.AddSettingToSnapshot(the_time,12,2.0)\n",
    "settings_basal.AddSettingToSnapshot(the_time,6,1.0)\n",
    "settings_basal.AddSettingToSnapshot(the_time,18,1.0)\n",
    "\n",
    "print(settings_basal.latestSettingsSnapshot())\n",
    "print('Setting at midnight:',settings_basal.GetLatestSettingAtTime(0))"
   ]
  },
  {
   "cell_type": "markdown",
   "metadata": {},
   "source": [
    "### Building a complete user profile: \"TrueUserProfile\"\n",
    "\n",
    "Now that we have created all of our individual settings, do we have a full user profile? No, because like I said before, many of the quantities above are not the fundamental quantities, but indirect quantities like the insulin-carb-ratio and the basal insulin settings.\n",
    "\n",
    "To get at the true user profile, with the fundamental quantities, we feed this into the \"TrueUserProfile\" class:"
   ]
  },
  {
   "cell_type": "code",
   "execution_count": 7,
   "metadata": {},
   "outputs": [
    {
     "name": "stdout",
     "output_type": "stream",
     "text": [
      "Time                           :     12am        ____         4am        ____         8am        ____         12pm        ____         4pm        ____         8pm        ____\n",
      "InsulinSensitivity Si (mgdL/u) :     -60   -60   -60   -50   -50   -40   -40   -40   -40   -40   -40   -40   -40   -40   -40   -40   -40   -40   -40   -40   -40   -40   -40   -40\n",
      "                                     -60   -60   -60   -50   -40   -40   -40   -40   -40   -40   -40   -40   -40   -40   -40   -40   -40   -40   -40   -40   -40   -40   -40   -40\n",
      "FoodSensitivity Sf (mgdL/g)    :     4.0   4.0   4.0   3.3   3.3   2.7   2.7   2.7   2.7   2.7   2.7   2.7   2.7   2.7   2.7   2.7   2.7   2.7   2.7   2.7   2.7   2.7   2.7   2.7\n",
      "                                     4.0   4.0   4.0   3.3   2.7   2.7   2.7   2.7   2.7   2.7   2.7   2.7   2.7   2.7   2.7   2.7   2.7   2.7   2.7   2.7   2.7   2.7   2.7   2.7\n",
      "(Carb ratio Si/Sf) (g/u)       :      15    15    15    15    15    15    15    15    15    15    15    15    15    15    15    15    15    15    15    15    15    15    15    15\n",
      "                                      15    15    15    15    15    15    15    15    15    15    15    15    15    15    15    15    15    15    15    15    15    15    15    15\n",
      "InsulinTa (hours)              :     4.0   4.0   4.0   4.0   4.0   4.0   4.0   4.0   4.0   4.0   4.0   4.0   4.0   4.0   4.0   4.0   4.0   4.0   4.0   4.0   4.0   4.0   4.0   4.0\n",
      "                                     4.0   4.0   4.0   4.0   4.0   4.0   4.0   4.0   4.0   4.0   4.0   4.0   4.0   4.0   4.0   4.0   4.0   4.0   4.0   4.0   4.0   4.0   4.0   4.0\n",
      "FoodTa (hours)                 :     2.0   2.0   2.0   2.0   2.0   2.0   2.0   2.0   2.0   2.0   2.0   2.0   2.0   2.0   2.0   2.0   2.0   2.0   2.0   2.0   2.0   2.0   2.0   2.0\n",
      "                                     2.0   2.0   2.0   2.0   2.0   2.0   2.0   2.0   2.0   2.0   2.0   2.0   2.0   2.0   2.0   2.0   2.0   2.0   2.0   2.0   2.0   2.0   2.0   2.0\n",
      "LiverHourlyGlucose (mgdL/hour) :      40    40    60    60    60   100    40    40    40    40    40    40    40    40    40    40    40    40    40    40    40    40    40    40\n",
      "                                      40    60    60    60   100   100    40    40    40    40    40    40    40    40    40    40    40    40    40    40    40    40    40    40\n"
     ]
    }
   ],
   "source": [
    "the_userprofile = Settings.TrueUserProfile()\n",
    "\n",
    "the_userprofile.AddSensitivityFromArrays(settings_sensitivity.latestSettingsSnapshot(),\n",
    "                                         settings_ric.latestSettingsSnapshot())\n",
    "\n",
    "the_userprofile.AddHourlyGlucoseFromArrays(settings_basal.latestSettingsSnapshot(),\n",
    "                                           settings_duration.latestSettingsSnapshot())\n",
    "the_userprofile.Print()"
   ]
  },
  {
   "cell_type": "code",
   "execution_count": 8,
   "metadata": {},
   "outputs": [
    {
     "data": {
      "text/plain": [
       "-40.0"
      ]
     },
     "execution_count": 8,
     "metadata": {},
     "output_type": "execute_result"
    }
   ],
   "source": [
    "import time\n",
    "struct_time = time.strptime('2019-02-24 13:01:00', \"%Y-%m-%d %H:%M:%S\")\n",
    "utc_time = time.mktime(struct_time)\n",
    "the_userprofile.getInsulinSensitivity(utc_time)"
   ]
  },
  {
   "cell_type": "markdown",
   "metadata": {},
   "source": [
    "Events in the BGModel that are *dependent* on settings\n",
    "--------\n",
    "Something.\n",
    "\n",
    "### The Basal Insulin, and related Events"
   ]
  },
  {
   "cell_type": "code",
   "execution_count": 9,
   "metadata": {},
   "outputs": [
    {
     "name": "stdout",
     "output_type": "stream",
     "text": [
      "[1.0, 1.0, 1.0, 1.0, 1.0, 1.0, 2.0, 2.0, 2.0, 1.0, 1.0, 1.0, 1.0, 1.0, 1.0, 1.0, 1.0, 1.0, 1.0, 1.0, 1.0, 1.0, 1.0, 1.0, 1.0, 1.0, 1.0, 1.0, 1.0, 1.0, 1.0, 1.0, 1.0, 1.0, 1.0, 1.0, 1.0, 1.0, 1.0, 1.0, 1.0, 1.0, 1.0, 1.0, 1.0, 1.0, 1.0, 1.0]\n"
     ]
    }
   ],
   "source": [
    "liver_glucose = LiverBasalGlucose()\n",
    "basal = BasalInsulin.FromStringDate('2019-02-23T00:00:00','2019-02-25T23:59:59',\n",
    "                                    settings_basal.latestSettingsSnapshot(),\n",
    "                                    settings_sensitivity.latestSettingsSnapshot())\n",
    "print(basal.BasalRates)"
   ]
  },
  {
   "cell_type": "markdown",
   "metadata": {},
   "source": [
    "Something else, something else."
   ]
  },
  {
   "cell_type": "code",
   "execution_count": 10,
   "metadata": {},
   "outputs": [],
   "source": [
    "temp_basal = TempBasal.FromStringDate('2019-02-24T00:00:00','2019-02-24T23:59:59',1.2)\n",
    "suspend = Suspend.FromStringDate('2019-02-24T05:00:00','2019-02-24T06:00:00')"
   ]
  },
  {
   "cell_type": "markdown",
   "metadata": {},
   "source": [
    "Now to the plotting."
   ]
  },
  {
   "cell_type": "code",
   "execution_count": 11,
   "metadata": {},
   "outputs": [
    {
     "data": {
      "image/png": "[encoded data removed]",
      "text/plain": [
       "<Figure size 648x432 with 2 Axes>"
      ]
     },
     "metadata": {
      "needs_background": "light"
     },
     "output_type": "display_data"
    }
   ],
   "source": [
    "%matplotlib inline\n",
    "import matplotlib.pyplot as plt\n",
    "import matplotlib.dates as mdates\n",
    "\n",
    "# Change figure defaults\n",
    "plt.rcParams['figure.figsize'] = [9.0,6.0]\n",
    "\n",
    "fig = plt.figure()\n",
    "ax1 = fig.add_axes([0.1, 0.5, 0.8, 0.4],xticklabels=[], ylim=(-1.2, 1.2))\n",
    "ax2 = fig.add_axes([0.1, 0.1, 0.8, 0.4]) #,ylim=(-200, 200)\n",
    "\n",
    "utc_time = time.mktime(time.strptime(the_time, \"%Y-%m-%d %H:%M:%S\"))\n",
    "x_times = range(int(utc_time),int(utc_time+48*3600),int(0.1*3600))\n",
    "x_times_datetime = list(datetime.datetime.fromtimestamp(a) for a in x_times)\n",
    "y_basalrates = np.array(list(basal.getBGEffectDerivPerHour(time_ut,the_userprofile) for time_ut in x_times))\n",
    "y_liver = np.array(list(liver_glucose.getBGEffectDerivPerHour(time_ut,the_userprofile) for time_ut in x_times))\n",
    "y_bolus = np.array(list(insulin.getBGEffectDerivPerHour(time_ut,the_userprofile) for time_ut in x_times))\n",
    "y_food = np.array(list(food.getBGEffectDerivPerHour(time_ut,the_userprofile) for time_ut in x_times))\n",
    "\n",
    "ax2.fill_between(x_times_datetime,0,y_basalrates,alpha=0.7)\n",
    "#ax2.fill_between(x_times_datetime,y_basalrates,(y_basalrates+y_bolus))\n",
    "\n",
    "ax2.fill_between(x_times_datetime,0,y_liver,alpha=0.7)\n",
    "#ax2.fill_between(x_times_datetime,y_liver,y_liver+y_food)\n",
    "\n",
    "ax2.axhline(0,c='black')\n",
    "\n",
    "ax2.plot(x_times_datetime,y_basalrates+y_liver+y_food+y_bolus,color='red')\n",
    "\n",
    "ax2.xaxis.set_major_formatter(mdates.DateFormatter(\"%H:%M\"))"
   ]
  },
  {
   "cell_type": "code",
   "execution_count": null,
   "metadata": {},
   "outputs": [],
   "source": []
  }
 ],
 "metadata": {
  "kernelspec": {
   "display_name": "Python 3",
   "language": "python",
   "name": "python3"
  },
  "language_info": {
   "codemirror_mode": {
    "name": "ipython",
    "version": 3
   },
   "file_extension": ".py",
   "mimetype": "text/x-python",
   "name": "python",
   "nbconvert_exporter": "python",
   "pygments_lexer": "ipython3",
   "version": "3.7.4"
  }
 },
 "nbformat": 4,
 "nbformat_minor": 2
}
